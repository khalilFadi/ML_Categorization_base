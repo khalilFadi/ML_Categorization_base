{
 "cells": [
  {
   "cell_type": "code",
   "execution_count": 1,
   "metadata": {},
   "outputs": [],
   "source": [
    "import pandas as pd \n"
   ]
  },
  {
   "cell_type": "code",
   "execution_count": 2,
   "metadata": {},
   "outputs": [
    {
     "data": {
      "text/plain": [
       "Index(['StartDate', 'EndDate', 'Status', 'IPAddress', 'Progress',\n",
       "       'Duration (in seconds)', 'Finished', 'RecordedDate', 'ResponseId',\n",
       "       'RecipientLastName', 'RecipientFirstName', 'RecipientEmail',\n",
       "       'ExternalReference', 'LocationLatitude', 'LocationLongitude',\n",
       "       'DistributionChannel', 'UserLanguage', 'Q3_1', 'Q3_2', 'Q3_3', 'Q3_4',\n",
       "       'Q3_5', 'Q3_6', 'Q3_6_TEXT', 'Q4', 'Q5_1', 'Q5_2', 'Q5_3', 'Q5_4',\n",
       "       'Q5_5', 'Q5_5_TEXT', 'Q6', 'Q7', 'Q8', 'Q9', 'Q10', 'Q11', 'Q12', 'Q13',\n",
       "       'Q15', 'Unnamed: 40', 'Unnamed: 41', 'Q16', 'Q17', 'Q21', 'Q18', 'Q19'],\n",
       "      dtype='object')"
      ]
     },
     "execution_count": 2,
     "metadata": {},
     "output_type": "execute_result"
    }
   ],
   "source": [
    "df = pd.read_excel('Copy of YSA 2024 Participant Survey_September 9, 2024_11.23.xlsx')\n",
    "df.columns"
   ]
  },
  {
   "cell_type": "code",
   "execution_count": 5,
   "metadata": {},
   "outputs": [],
   "source": [
    "df = df[1:]\n",
    "df['text'] = df['Q16']"
   ]
  },
  {
   "cell_type": "code",
   "execution_count": 6,
   "metadata": {},
   "outputs": [],
   "source": [
    "df.to_csv(\"RecomendationFilInput.csv\")"
   ]
  },
  {
   "cell_type": "code",
   "execution_count": 27,
   "metadata": {},
   "outputs": [],
   "source": [
    "#changing the positive, negative and neutral into numerical values \n",
    "prediction_df = pd.read_csv(\"preds.csv\")\n",
    "prediction_df['sent'] = prediction_df['sent'].apply(lambda x: 1 if x == 'positive' else (0 if x =='neutral' else -1))\n",
    "#removing these columns \n",
    "output_df = pd.DataFrame()\n",
    "output_df['id'] = prediction_df['ResponseId']\n",
    "output_df['text'] = prediction_df['text']\n",
    "output_df['sent'] = prediction_df['sent']\n",
    "prediction_df = prediction_df.drop(columns=['text', 'emotion'])\n",
    "prediction_df.to_excel(\"Quantized_preds.xlsx\")"
   ]
  },
  {
   "cell_type": "code",
   "execution_count": 28,
   "metadata": {},
   "outputs": [
    {
     "data": {
      "text/plain": [
       "Index(['Unnamed: 0', 'StartDate', 'EndDate', 'Status', 'IPAddress', 'Progress',\n",
       "       'Duration (in seconds)', 'Finished', 'RecordedDate', 'ResponseId',\n",
       "       'RecipientLastName', 'RecipientFirstName', 'RecipientEmail',\n",
       "       'ExternalReference', 'LocationLatitude', 'LocationLongitude',\n",
       "       'DistributionChannel', 'UserLanguage', 'Q3_1', 'Q3_2', 'Q3_3', 'Q3_4',\n",
       "       'Q3_5', 'Q3_6', 'Q3_6_TEXT', 'Q4', 'Q5_1', 'Q5_2', 'Q5_3', 'Q5_4',\n",
       "       'Q5_5', 'Q5_5_TEXT', 'Q6', 'Q7', 'Q8', 'Q9', 'Q10', 'Q11', 'Q12', 'Q13',\n",
       "       'Q15', 'Unnamed: 40', 'Unnamed: 41', 'Q16', 'Q17', 'Q21', 'Q18', 'Q19',\n",
       "       'sent'],\n",
       "      dtype='object')"
      ]
     },
     "execution_count": 28,
     "metadata": {},
     "output_type": "execute_result"
    }
   ],
   "source": [
    "prediction_df.columns"
   ]
  },
  {
   "cell_type": "code",
   "execution_count": 29,
   "metadata": {},
   "outputs": [],
   "source": [
    "import pandas as pd \n",
    "num = 10\n",
    "file = pd.read_csv(f'Q{num}_preds.csv')\n",
    "file['sent'] = file['sent'].apply(lambda x: -1 if x == 'negative' else (1 if x =='positive' else 0))\n",
    "file = file.drop(columns=['emotion'])\n",
    "file.to_csv(f'Q{num}_preds.csv')\n",
    "#change into numbers"
   ]
  },
  {
   "cell_type": "code",
   "execution_count": 30,
   "metadata": {},
   "outputs": [
    {
     "name": "stderr",
     "output_type": "stream",
     "text": [
      "<>:2: SyntaxWarning: invalid escape sequence '\\d'\n",
      "<>:2: SyntaxWarning: invalid escape sequence '\\d'\n",
      "C:\\Users\\khamad\\AppData\\Local\\Temp\\ipykernel_26488\\2473991.py:2: SyntaxWarning: invalid escape sequence '\\d'\n",
      "  file = pd.read_excel(\"..\\databases\\Copy of YSA 2024 Participant Survey_September 9, 2024_11.23.xlsx\")\n"
     ]
    }
   ],
   "source": [
    "#preparing Q10, 12, Q5_text\n",
    "file = pd.read_excel(\"..\\databases\\Copy of YSA 2024 Participant Survey_September 9, 2024_11.23.xlsx\")\n",
    "Q10_file = file\n",
    "Q10_file['text'] = file['Q10']\n",
    "# Q12_file = file\n",
    "# Q12_file['text'] = file['Q12']\n",
    "# Q5_file = file\n",
    "# Q5_file['text'] = file['Q5_5_TEXT']\n",
    "Q10_file.to_csv('../databases/Q10_Sent_input.csv')\n",
    "# Q12_file.to_csv('../databases/Q12_Sent_input.csv')\n",
    "# Q5_file.to_csv('../databases/Q5_Sent_input.csv')\n"
   ]
  },
  {
   "cell_type": "code",
   "execution_count": null,
   "metadata": {},
   "outputs": [],
   "source": []
  }
 ],
 "metadata": {
  "kernelspec": {
   "display_name": "ml_env",
   "language": "python",
   "name": "python3"
  },
  "language_info": {
   "codemirror_mode": {
    "name": "ipython",
    "version": 3
   },
   "file_extension": ".py",
   "mimetype": "text/x-python",
   "name": "python",
   "nbconvert_exporter": "python",
   "pygments_lexer": "ipython3",
   "version": "3.12.4"
  }
 },
 "nbformat": 4,
 "nbformat_minor": 2
}
