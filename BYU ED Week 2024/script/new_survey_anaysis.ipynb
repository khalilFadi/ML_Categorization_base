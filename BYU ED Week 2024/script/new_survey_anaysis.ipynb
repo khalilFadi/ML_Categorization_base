{
 "cells": [
  {
   "cell_type": "code",
   "execution_count": 6,
   "metadata": {},
   "outputs": [],
   "source": [
    "#libraris \n",
    "import sys\n",
    "import pandas as pd\n",
    "import numpy as np \n",
    "from transformers import AutoTokenizer\n",
    "from transformers import AutoModelForSequenceClassification     \n",
    "from scipy.special import softmax    "
   ]
  },
  {
   "cell_type": "code",
   "execution_count": 7,
   "metadata": {},
   "outputs": [
    {
     "name": "stderr",
     "output_type": "stream",
     "text": [
      "c:\\Users\\khamad\\Documents\\GitHub\\ML_Categorization_base\\ml_env\\Lib\\site-packages\\transformers\\tokenization_utils_base.py:1601: FutureWarning: `clean_up_tokenization_spaces` was not set. It will be set to `True` by default. This behavior will be depracted in transformers v4.45, and will be then set to `False` by default. For more details check this issue: https://github.com/huggingface/transformers/issues/31884\n",
      "  warnings.warn(\n"
     ]
    }
   ],
   "source": [
    "MODEL = f\"cardiffnlp/twitter-roberta-base-sentiment\"\n",
    "tokenizer = AutoTokenizer.from_pretrained(MODEL)\n",
    "model = AutoModelForSequenceClassification.from_pretrained(MODEL)"
   ]
  },
  {
   "cell_type": "code",
   "execution_count": 8,
   "metadata": {},
   "outputs": [],
   "source": [
    "def get_sentiment_roberta(text):\n",
    "    try:\n",
    "        if pd.isna(text) or text == \"\":\n",
    "            print(\"It was an NA\")\n",
    "            sentiment_label = {\n",
    "                'negative': 0,\n",
    "                'neutral': 0, \n",
    "                'positive': 0\n",
    "            }\n",
    "            max_sentiment = 'neutral'\n",
    "            return max_sentiment, sentiment_label\n",
    "        \n",
    "        encoded_text = tokenizer(text, return_tensor='pt')\n",
    "        output = model(**encoded_text)\n",
    "        scores = output.logits[0].detach().numpy()\n",
    "        scores = softmax(scores)\n",
    "        sentiment_label = {\n",
    "            'negative': scores[0],\n",
    "            'neutral': scores[1],\n",
    "            'positive': scores[2]\n",
    "        }\n",
    "        max_sentiment = max(sentiment_label, key=sentiment_label.get)\n",
    "        return max_sentiment, sentiment_label\n",
    "    except Exception as e:\n",
    "        print(\"Too long, splot and calculate\")\n",
    "        sentences = text.split('.')\n",
    "        pos = 0\n",
    "        neg = 0 \n",
    "        sentence_scores = []\n",
    "        for sentence in sentences:\n",
    "            encoded_text = tokenizer(sentence, return_tensors='pt')\n",
    "            output = model(**encoded_text)\n",
    "            scores = output.logits[0].detach().numpy()\n",
    "            scores = softmax(scores)\n",
    "\n",
    "            sentiment_label = {\n",
    "                'negative': scores[0],\n",
    "                'neutral': scores[1],\n",
    "                'positive': scores[2]\n",
    "            }\n",
    "            sentence_scores.append(sentiment_label)\n",
    "\n",
    "            max_sentiment = max(sentiment_label, key=sentiment_label.get)\n",
    "            if max_sentiment == 'positive':\n",
    "                pos += 1\n",
    "            else:\n",
    "                neg += 1\n",
    "        mean_dict = {\n",
    "            key: np.mean([sentence[key] for sentence in sentence_scores])\n",
    "            for key in ['negative', 'neutral', 'positive']\n",
    "        }\n",
    "        if neg >= pos:\n",
    "            return 'negative', mean_dict\n",
    "        return 'positive', mean_dict"
   ]
  },
  {
   "cell_type": "code",
   "execution_count": 14,
   "metadata": {},
   "outputs": [],
   "source": [
    "def main():\n",
    "    if len(sys.argv) < 2:\n",
    "        print(\"Not enough command arguments porivded.\")\n",
    "        return \n",
    "    file_path = sys.argv[1]\n",
    "    print(\"Loading file\")\n",
    "    df = pd.read_csv(file_path, encoding='latin1')\n",
    "    df.fillna({'text':' '}, inplace=True)\n",
    "\n",
    "    #Run Roberta model on text \n",
    "    print(\"Running roberta model \")\n",
    "    print(\"Head of the text column\", df['text'].head(10))\n",
    "    df[['roberta', 'roberta_scores']] = df['text'].apply(get_sentiment_roberta).apply(pd.Series)\n",
    "    normalized_scores  = pd.json_normalize(df['roberta_scores'])\n",
    "    result_df = pd.concat([df, normalized_scores], axis=1)\n",
    "    df = result_df.drop('roberta_scores', axis=1)\n",
    "\n",
    "    print(df)"
   ]
  },
  {
   "cell_type": "code",
   "execution_count": 10,
   "metadata": {},
   "outputs": [
    {
     "ename": "NameError",
     "evalue": "name 'df' is not defined",
     "output_type": "error",
     "traceback": [
      "\u001b[1;31m---------------------------------------------------------------------------\u001b[0m",
      "\u001b[1;31mNameError\u001b[0m                                 Traceback (most recent call last)",
      "Cell \u001b[1;32mIn[10], line 1\u001b[0m\n\u001b[1;32m----> 1\u001b[0m \u001b[43mdf\u001b[49m\n",
      "\u001b[1;31mNameError\u001b[0m: name 'df' is not defined"
     ]
    }
   ],
   "source": []
  },
  {
   "cell_type": "code",
   "execution_count": null,
   "metadata": {},
   "outputs": [],
   "source": []
  }
 ],
 "metadata": {
  "kernelspec": {
   "display_name": "ml_env",
   "language": "python",
   "name": "python3"
  },
  "language_info": {
   "codemirror_mode": {
    "name": "ipython",
    "version": 3
   },
   "file_extension": ".py",
   "mimetype": "text/x-python",
   "name": "python",
   "nbconvert_exporter": "python",
   "pygments_lexer": "ipython3",
   "version": "3.12.4"
  }
 },
 "nbformat": 4,
 "nbformat_minor": 2
}
