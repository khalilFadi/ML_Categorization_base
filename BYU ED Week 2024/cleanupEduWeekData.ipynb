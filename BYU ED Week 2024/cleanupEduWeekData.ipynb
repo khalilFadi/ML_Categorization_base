{
 "cells": [
  {
   "cell_type": "code",
   "execution_count": 54,
   "metadata": {},
   "outputs": [],
   "source": [
    "import pandas as pd \n",
    "import matplotlib.pyplot as plt \n",
    "import numpy "
   ]
  },
  {
   "cell_type": "code",
   "execution_count": 55,
   "metadata": {},
   "outputs": [
    {
     "name": "stderr",
     "output_type": "stream",
     "text": [
      "c:\\Users\\khamad\\Documents\\GitHub\\ML_Categorization_base\\ml_env\\Lib\\site-packages\\openpyxl\\styles\\stylesheet.py:237: UserWarning: Workbook contains no default style, apply openpyxl's default\n",
      "  warn(\"Workbook contains no default style, apply openpyxl's default\")\n"
     ]
    }
   ],
   "source": [
    "df = pd.read_excel('BYUEdWeekProgramSurvey2024.xlsx',  index_col=0)"
   ]
  },
  {
   "cell_type": "code",
   "execution_count": 56,
   "metadata": {},
   "outputs": [
    {
     "data": {
      "text/plain": [
       "Index(['EndDate', 'Status', 'IPAddress', 'Progress', 'Duration (in seconds)',\n",
       "       'Finished', 'RecordedDate', 'ResponseId', 'RecipientLastName',\n",
       "       'RecipientFirstName', 'RecipientEmail', 'ExternalReference',\n",
       "       'LocationLatitude', 'LocationLongitude', 'DistributionChannel',\n",
       "       'UserLanguage', 'Q3', 'Q4', 'Q5', 'Q6', 'Q8', 'Q7_1', 'Q7_2', 'Q7_3',\n",
       "       'Q7_4', 'Q7_5', 'Q10', 'Q11', 'Q13', 'Q14_4', 'Q14_5'],\n",
       "      dtype='object')"
      ]
     },
     "execution_count": 56,
     "metadata": {},
     "output_type": "execute_result"
    }
   ],
   "source": [
    "df.columns"
   ]
  },
  {
   "cell_type": "code",
   "execution_count": 57,
   "metadata": {},
   "outputs": [
    {
     "name": "stderr",
     "output_type": "stream",
     "text": [
      "C:\\Users\\khamad\\AppData\\Local\\Temp\\ipykernel_14544\\2362012371.py:5: FutureWarning: Series.__getitem__ treating keys as positions is deprecated. In a future version, integer keys will always be treated as labels (consistent with DataFrame behavior). To access a value by position, use `ser.iloc[pos]`\n",
      "  if pd.notna(df['Q4'][i]) and df['Q4'][i] != ' ' and df['Q4'][i] != '':\n",
      "C:\\Users\\khamad\\AppData\\Local\\Temp\\ipykernel_14544\\2362012371.py:9: FutureWarning: Series.__getitem__ treating keys as positions is deprecated. In a future version, integer keys will always be treated as labels (consistent with DataFrame behavior). To access a value by position, use `ser.iloc[pos]`\n",
      "  text_source['Q4'] = [df['Q4'][i]]\n",
      "C:\\Users\\khamad\\AppData\\Local\\Temp\\ipykernel_14544\\2362012371.py:11: FutureWarning: Series.__getitem__ treating keys as positions is deprecated. In a future version, integer keys will always be treated as labels (consistent with DataFrame behavior). To access a value by position, use `ser.iloc[pos]`\n",
      "  text_column.append(df['Q4'][i])\n",
      "C:\\Users\\khamad\\AppData\\Local\\Temp\\ipykernel_14544\\2362012371.py:12: FutureWarning: Series.__getitem__ treating keys as positions is deprecated. In a future version, integer keys will always be treated as labels (consistent with DataFrame behavior). To access a value by position, use `ser.iloc[pos]`\n",
      "  elif pd.notna(df['Q5'][i]) and df['Q5'][i] != ' ' and df['Q5'][i] != '':\n",
      "C:\\Users\\khamad\\AppData\\Local\\Temp\\ipykernel_14544\\2362012371.py:20: FutureWarning: Series.__getitem__ treating keys as positions is deprecated. In a future version, integer keys will always be treated as labels (consistent with DataFrame behavior). To access a value by position, use `ser.iloc[pos]`\n",
      "  elif pd.notna(df['Q8'][i]) and df['Q8'][i] != ' ' and df['Q8'][i] != '':\n",
      "C:\\Users\\khamad\\AppData\\Local\\Temp\\ipykernel_14544\\2362012371.py:24: FutureWarning: Series.__getitem__ treating keys as positions is deprecated. In a future version, integer keys will always be treated as labels (consistent with DataFrame behavior). To access a value by position, use `ser.iloc[pos]`\n",
      "  text_source['Q8'] = [df['Q8'][i]]\n",
      "C:\\Users\\khamad\\AppData\\Local\\Temp\\ipykernel_14544\\2362012371.py:26: FutureWarning: Series.__getitem__ treating keys as positions is deprecated. In a future version, integer keys will always be treated as labels (consistent with DataFrame behavior). To access a value by position, use `ser.iloc[pos]`\n",
      "  text_column.append(df['Q8'][i])\n",
      "C:\\Users\\khamad\\AppData\\Local\\Temp\\ipykernel_14544\\2362012371.py:7: FutureWarning: Series.__getitem__ treating keys as positions is deprecated. In a future version, integer keys will always be treated as labels (consistent with DataFrame behavior). To access a value by position, use `ser.iloc[pos]`\n",
      "  text_source['Q4'].append(df['Q4'][i])\n",
      "C:\\Users\\khamad\\AppData\\Local\\Temp\\ipykernel_14544\\2362012371.py:16: FutureWarning: Series.__getitem__ treating keys as positions is deprecated. In a future version, integer keys will always be treated as labels (consistent with DataFrame behavior). To access a value by position, use `ser.iloc[pos]`\n",
      "  text_source['Q5'] = [df['Q5'][i]]\n",
      "C:\\Users\\khamad\\AppData\\Local\\Temp\\ipykernel_14544\\2362012371.py:18: FutureWarning: Series.__getitem__ treating keys as positions is deprecated. In a future version, integer keys will always be treated as labels (consistent with DataFrame behavior). To access a value by position, use `ser.iloc[pos]`\n",
      "  text_column.append(df['Q5'][i])\n",
      "C:\\Users\\khamad\\AppData\\Local\\Temp\\ipykernel_14544\\2362012371.py:14: FutureWarning: Series.__getitem__ treating keys as positions is deprecated. In a future version, integer keys will always be treated as labels (consistent with DataFrame behavior). To access a value by position, use `ser.iloc[pos]`\n",
      "  text_source['Q5'].append(df['Q5'][i])\n",
      "C:\\Users\\khamad\\AppData\\Local\\Temp\\ipykernel_14544\\2362012371.py:22: FutureWarning: Series.__getitem__ treating keys as positions is deprecated. In a future version, integer keys will always be treated as labels (consistent with DataFrame behavior). To access a value by position, use `ser.iloc[pos]`\n",
      "  text_source['Q8'].append(df['Q8'][i])\n"
     ]
    },
    {
     "name": "stdout",
     "output_type": "stream",
     "text": [
      "percentage of filled texts (Getting from Q4 -> Q5 -> Q8): 91.46%\n"
     ]
    }
   ],
   "source": [
    "filled = 0\n",
    "text_source = {}\n",
    "text_column = []\n",
    "for i in range(len(df)):\n",
    "    if pd.notna(df['Q4'][i]) and df['Q4'][i] != ' ' and df['Q4'][i] != '':\n",
    "        if 'Q4' in text_source:\n",
    "            text_source['Q4'].append(df['Q4'][i])\n",
    "        else:\n",
    "            text_source['Q4'] = [df['Q4'][i]]\n",
    "        filled += 1\n",
    "        text_column.append(df['Q4'][i])\n",
    "    elif pd.notna(df['Q5'][i]) and df['Q5'][i] != ' ' and df['Q5'][i] != '':\n",
    "        if 'Q5' in text_source:\n",
    "            text_source['Q5'].append(df['Q5'][i])\n",
    "        else:\n",
    "            text_source['Q5'] = [df['Q5'][i]]\n",
    "        filled += 1\n",
    "        text_column.append(df['Q5'][i])\n",
    "\n",
    "    elif pd.notna(df['Q8'][i]) and df['Q8'][i] != ' ' and df['Q8'][i] != '':\n",
    "        if 'Q8' in text_source:\n",
    "            text_source['Q8'].append(df['Q8'][i])\n",
    "        else:\n",
    "            text_source['Q8'] = [df['Q8'][i]]\n",
    "        filled += 1\n",
    "        text_column.append(df['Q8'][i])\n",
    "\n",
    "    else:\n",
    "        text_column.append('')\n",
    "print(f\"percentage of filled texts (Getting from Q4 -> Q5 -> Q8): {(filled / len(df)) * 100:0.02f}%\")"
   ]
  },
  {
   "cell_type": "code",
   "execution_count": 86,
   "metadata": {},
   "outputs": [],
   "source": [
    "df['text'] = text_column\n",
    "satisfaction_levels = {'Excellent': 5, 'Good': 4, 'Average': 3, 'Poor': 2, 'Terrible': 1, 'Overall, how would you rate your experience at Education Week?': 1, None: 1}\n",
    "df['Satisfaction'] = df['Q3'].apply(lambda x: satisfaction_levels.get(x, 0) if pd.notna(x) else -1)\n"
   ]
  },
  {
   "cell_type": "code",
   "execution_count": 87,
   "metadata": {},
   "outputs": [],
   "source": [
    "df[1:].to_csv(\"cleaned_up_Edu_week.csv\")"
   ]
  },
  {
   "cell_type": "code",
   "execution_count": 88,
   "metadata": {},
   "outputs": [],
   "source": [
    "#adding the satisifaction to preds \n",
    "file = pd.read_csv('../preds (1).csv')\n",
    "file['Satisfaction'] = [i for i in df[1:]['Satisfaction']]\n",
    "file['Question'] = [i for i in df[1:]['Satisfaction']]\n",
    "file['State'] = [i for i in df[1:]['Satisfaction']]\n",
    "file.to_csv('../preds (1).csv')"
   ]
  },
  {
   "cell_type": "code",
   "execution_count": 95,
   "metadata": {},
   "outputs": [
    {
     "name": "stdout",
     "output_type": "stream",
     "text": [
      "        state  Satisfaction  \\\n",
      "0        Utah             5   \n",
      "1     Arizona             5   \n",
      "2       Texas             5   \n",
      "3        Utah             5   \n",
      "4        Utah             5   \n",
      "...       ...           ...   \n",
      "2993      NaN             1   \n",
      "2994      NaN             5   \n",
      "2995      NaN             4   \n",
      "2996      NaN             5   \n",
      "2997      NaN             4   \n",
      "\n",
      "                                                   text sent emotion Sent  \\\n",
      "0                            Dr Jeff ODriscoll speaking  NaN     NaN  NaN   \n",
      "1                                                        NaN     NaN  NaN   \n",
      "2     People not slamming dorm room doors from 6am t...  NaN     NaN  NaN   \n",
      "3                                                        NaN     NaN  NaN   \n",
      "4           Good mix of spiritual and other interests.   NaN     NaN  NaN   \n",
      "...                                                 ...  ...     ...  ...   \n",
      "2993                               More parking. Places  NaN     NaN  NaN   \n",
      "2994  It was a great time, loved the speakers and cl...  NaN     NaN  NaN   \n",
      "2995                                                     NaN     NaN  NaN   \n",
      "2996                           More energy on my part.   NaN     NaN  NaN   \n",
      "2997                                                     NaN     NaN  NaN   \n",
      "\n",
      "     Emotion  \n",
      "0        NaN  \n",
      "1        NaN  \n",
      "2        NaN  \n",
      "3        NaN  \n",
      "4        NaN  \n",
      "...      ...  \n",
      "2993     NaN  \n",
      "2994     NaN  \n",
      "2995     NaN  \n",
      "2996     NaN  \n",
      "2997     NaN  \n",
      "\n",
      "[2998 rows x 7 columns]\n"
     ]
    }
   ],
   "source": [
    "finaloutput = pd.DataFrame(columns=['state', 'Satisfaction', 'text', 'sent', 'emotion'])\n",
    "finaloutput['state'] = df[1:]['Q13']\n",
    "finaloutput['Satisfaction'] = [i for i in df[1:]['Satisfaction']]\n",
    "finaloutput['text'] = [i for i in df[1:]['text']]\n",
    "finaloutput['Sent'] = df[1:]['Q13']\n",
    "finaloutput['Emotion'] = df[1:]['Q13']\n",
    "# finaloutput.drop('StartDate')\n",
    "finaloutput.index = [i for i in range(len(finaloutput))]\n",
    "finaloutput[:200].to_csv(\"temp_output_file.csv\")\n",
    "print(finaloutput)"
   ]
  },
  {
   "cell_type": "code",
   "execution_count": null,
   "metadata": {},
   "outputs": [],
   "source": []
  }
 ],
 "metadata": {
  "kernelspec": {
   "display_name": "ml_env",
   "language": "python",
   "name": "python3"
  },
  "language_info": {
   "codemirror_mode": {
    "name": "ipython",
    "version": 3
   },
   "file_extension": ".py",
   "mimetype": "text/x-python",
   "name": "python",
   "nbconvert_exporter": "python",
   "pygments_lexer": "ipython3",
   "version": "3.12.4"
  }
 },
 "nbformat": 4,
 "nbformat_minor": 2
}
