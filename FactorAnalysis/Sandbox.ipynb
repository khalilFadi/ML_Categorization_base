{
 "cells": [
  {
   "cell_type": "code",
   "execution_count": 1,
   "metadata": {},
   "outputs": [],
   "source": [
    "import pandas as pd \n",
    "import numpy as np\n",
    "from bertopic import BERTopic "
   ]
  },
  {
   "cell_type": "code",
   "execution_count": 10,
   "metadata": {},
   "outputs": [],
   "source": [
    "#Config \n",
    "Number_Of_Topics = 4 \n",
    "input_file = \"./RecomendationFilInput.csv\"\n",
    "output_file_name = f'{input_file}_Factor_analysis.csv'"
   ]
  },
  {
   "cell_type": "code",
   "execution_count": 14,
   "metadata": {},
   "outputs": [],
   "source": [
    "from bertopic import BERTopic\n",
    "\n",
    "# Sample list of documents (strings)\n",
    "df = pd.read_csv(f\"{input_file}\")\n",
    "documents = [i if not isinstance(i, float) else '' for i in df['text']] #cleaning up the doc as empty show as nan \n",
    "\n",
    "# Create a BERTopic model\n",
    "topic_model = BERTopic()\n",
    "# Fit the model on the documents\n",
    "topics, probabilities = topic_model.fit_transform(documents)\n",
    "\n",
    "# Get the topics\n",
    "# print(\"Topics:\")\n",
    "topic_info = topic_model.get_topic_info()\n",
    "# print(topic_info)\n",
    "\n",
    "output = topic_info\n",
    "output.to_csv(f\"output.csv\")\n",
    "\n",
    "output = pd.DataFrame()"
   ]
  }
 ],
 "metadata": {
  "kernelspec": {
   "display_name": "ml_env",
   "language": "python",
   "name": "python3"
  },
  "language_info": {
   "codemirror_mode": {
    "name": "ipython",
    "version": 3
   },
   "file_extension": ".py",
   "mimetype": "text/x-python",
   "name": "python",
   "nbconvert_exporter": "python",
   "pygments_lexer": "ipython3",
   "version": "3.12.4"
  }
 },
 "nbformat": 4,
 "nbformat_minor": 2
}
