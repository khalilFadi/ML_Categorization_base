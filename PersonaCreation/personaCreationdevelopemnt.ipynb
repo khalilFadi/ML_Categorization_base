{
 "cells": [
  {
   "cell_type": "code",
   "execution_count": 63,
   "metadata": {},
   "outputs": [],
   "source": [
    "import transformers\n",
    "import pandas as pd \n",
    "import numpy as np \n",
    "import matplotlib.pyplot as plt\n",
    "# Create a list of personas and some data and information about them \n",
    "# I will use factor analysis to be able to do that\n",
    "# 1. get a list of the main topics \n",
    "# 2. get the average age of for each topic\n",
    "# 3. get the median gender \n",
    "# 4. get the median state \n",
    "\n",
    "# Here I am using a locally saved FactorAnalysis version 0.0.1\n",
    "import Factoranalysis\n"
   ]
  },
  {
   "cell_type": "code",
   "execution_count": 71,
   "metadata": {},
   "outputs": [],
   "source": [
    "def find_Personas(input_file: pd.DataFrame, Topics: pd.DataFrame, number_of_personas) -> list:\n",
    "    #input_file includes an extra column connecting each row to a topic \n",
    "    #Each persona includes:\n",
    "        # topic it is representing[0], age[1], gender[2], and state[3]\n",
    "    Personas = []\n",
    "    #printing out information about the average age of each topic \n",
    "    #TODO: Make this work for different column names \n",
    "    total_age_for_topics = {x: [] for x in Topics['Topic']}\n",
    "    for index, row in input_file.iterrows():\n",
    "        if not np.isnan(row['Q21']) and row['Topic'] != -1 and row['Q21'] != '':\n",
    "            # print(f'age: {row['Q21']}, topic: {row['Topic']}, current total: {total_age_for_topics[row['Topic']]}')\n",
    "            total_age_for_topics[row['Topic']].append(row['Q21'])\n",
    "    return total_age_for_topics\n",
    "    pass"
   ]
  },
  {
   "cell_type": "code",
   "execution_count": 72,
   "metadata": {},
   "outputs": [],
   "source": [
    "def run_Persona_Creation(input_file: pd.DataFrame, number_of_personas=7):\n",
    "    topics, df = Factoranalysis.run_Factor_analysis(input_file, number_of_topics=number_of_personas, topic_size=2, return_topic=False)\n",
    "    return find_Personas(df, topics, number_of_personas)"
   ]
  },
  {
   "cell_type": "code",
   "execution_count": 73,
   "metadata": {},
   "outputs": [
    {
     "name": "stdout",
     "output_type": "stream",
     "text": [
      "Output file name: Output_Factor_analysis.csv\n"
     ]
    }
   ],
   "source": [
    "ages = run_Persona_Creation(pd.read_csv('recomendationFilInput.csv'))"
   ]
  },
  {
   "cell_type": "code",
   "execution_count": null,
   "metadata": {},
   "outputs": [],
   "source": []
  },
  {
   "cell_type": "code",
   "execution_count": null,
   "metadata": {},
   "outputs": [],
   "source": []
  }
 ],
 "metadata": {
  "kernelspec": {
   "display_name": "ml_env",
   "language": "python",
   "name": "python3"
  },
  "language_info": {
   "codemirror_mode": {
    "name": "ipython",
    "version": 3
   },
   "file_extension": ".py",
   "mimetype": "text/x-python",
   "name": "python",
   "nbconvert_exporter": "python",
   "pygments_lexer": "ipython3",
   "version": "3.12.4"
  }
 },
 "nbformat": 4,
 "nbformat_minor": 2
}
